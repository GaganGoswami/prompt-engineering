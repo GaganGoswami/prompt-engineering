{
 "cells": [
  {
   "cell_type": "code",
   "execution_count": 1,
   "metadata": {
    "colab": {
     "base_uri": "https://localhost:8080/"
    },
    "id": "sFAfCcuREb8o",
    "outputId": "6d0d3a19-c3d1-48c2-a175-d8cc41e5b452"
   },
   "outputs": [
    {
     "name": "stdout",
     "output_type": "stream",
     "text": [
      "Collecting openai\n",
      "  Downloading openai-1.14.2-py3-none-any.whl.metadata (19 kB)\n",
      "Requirement already satisfied: anyio<5,>=3.5.0 in /opt/anaconda3/lib/python3.11/site-packages (from openai) (4.2.0)\n",
      "Requirement already satisfied: distro<2,>=1.7.0 in /opt/anaconda3/lib/python3.11/site-packages (from openai) (1.8.0)\n",
      "Collecting httpx<1,>=0.23.0 (from openai)\n",
      "  Using cached httpx-0.27.0-py3-none-any.whl.metadata (7.2 kB)\n",
      "Requirement already satisfied: pydantic<3,>=1.9.0 in /opt/anaconda3/lib/python3.11/site-packages (from openai) (1.10.12)\n",
      "Requirement already satisfied: sniffio in /opt/anaconda3/lib/python3.11/site-packages (from openai) (1.3.0)\n",
      "Requirement already satisfied: tqdm>4 in /opt/anaconda3/lib/python3.11/site-packages (from openai) (4.65.0)\n",
      "Requirement already satisfied: typing-extensions<5,>=4.7 in /opt/anaconda3/lib/python3.11/site-packages (from openai) (4.9.0)\n",
      "Requirement already satisfied: idna>=2.8 in /opt/anaconda3/lib/python3.11/site-packages (from anyio<5,>=3.5.0->openai) (3.4)\n",
      "Requirement already satisfied: certifi in /opt/anaconda3/lib/python3.11/site-packages (from httpx<1,>=0.23.0->openai) (2024.2.2)\n",
      "Collecting httpcore==1.* (from httpx<1,>=0.23.0->openai)\n",
      "  Using cached httpcore-1.0.4-py3-none-any.whl.metadata (20 kB)\n",
      "Collecting h11<0.15,>=0.13 (from httpcore==1.*->httpx<1,>=0.23.0->openai)\n",
      "  Using cached h11-0.14.0-py3-none-any.whl.metadata (8.2 kB)\n",
      "Downloading openai-1.14.2-py3-none-any.whl (262 kB)\n",
      "\u001b[2K   \u001b[90m━━━━━━━━━━━━━━━━━━━━━━━━━━━━━━━━━━━━━━━━\u001b[0m \u001b[32m262.4/262.4 kB\u001b[0m \u001b[31m1.4 MB/s\u001b[0m eta \u001b[36m0:00:00\u001b[0ma \u001b[36m0:00:01\u001b[0m\n",
      "\u001b[?25hUsing cached httpx-0.27.0-py3-none-any.whl (75 kB)\n",
      "Using cached httpcore-1.0.4-py3-none-any.whl (77 kB)\n",
      "Using cached h11-0.14.0-py3-none-any.whl (58 kB)\n",
      "Installing collected packages: h11, httpcore, httpx, openai\n",
      "Successfully installed h11-0.14.0 httpcore-1.0.4 httpx-0.27.0 openai-1.14.2\n",
      "Note: you may need to restart the kernel to use updated packages.\n"
     ]
    }
   ],
   "source": [
    "%pip install openai --upgrade"
   ]
  },
  {
   "cell_type": "code",
   "execution_count": 2,
   "metadata": {
    "colab": {
     "base_uri": "https://localhost:8080/"
    },
    "id": "jaertlAyGoEq",
    "outputId": "2e861470-f316-495f-a077-055d69192bcc"
   },
   "outputs": [
    {
     "ename": "NameError",
     "evalue": "name 'SPRING_AI_OPENAI_API_KEY' is not defined",
     "output_type": "error",
     "traceback": [
      "\u001b[0;31m---------------------------------------------------------------------------\u001b[0m",
      "\u001b[0;31mNameError\u001b[0m                                 Traceback (most recent call last)",
      "Cell \u001b[0;32mIn[2], line 8\u001b[0m\n\u001b[1;32m      4\u001b[0m \u001b[38;5;28;01mimport\u001b[39;00m \u001b[38;5;21;01mos\u001b[39;00m \n\u001b[1;32m      7\u001b[0m \u001b[38;5;66;03m#openai.api_key = getpass.getpass(\"Please enter your OpenAI Key:\")\u001b[39;00m\n\u001b[0;32m----> 8\u001b[0m openai\u001b[38;5;241m.\u001b[39mapi_key\u001b[38;5;241m=\u001b[39m os\u001b[38;5;241m.\u001b[39menviron\u001b[38;5;241m.\u001b[39mget(SPRING_AI_OPENAI_API_KEY)\n\u001b[1;32m      9\u001b[0m \u001b[38;5;28mprint\u001b[39m(openai\u001b[38;5;241m.\u001b[39mapi_key)\n",
      "\u001b[0;31mNameError\u001b[0m: name 'SPRING_AI_OPENAI_API_KEY' is not defined"
     ]
    }
   ],
   "source": [
    "import openai\n",
    "import re\n",
    "import getpass\n",
    "import os \n",
    "\n",
    "\n",
    "#openai.api_key = getpass.getpass(\"Please enter your OpenAI Key:\")\n",
    "openai.api_key= os.environ.get(SPRING_AI_OPENAI_API_KEY)\n",
    "print(openai.api_key)"
   ]
  },
  {
   "cell_type": "code",
   "execution_count": null,
   "metadata": {},
   "outputs": [],
   "source": []
  },
  {
   "cell_type": "code",
   "execution_count": 6,
   "metadata": {},
   "outputs": [],
   "source": [
    "import json"
   ]
  },
  {
   "cell_type": "code",
   "execution_count": 7,
   "metadata": {
    "colab": {
     "base_uri": "https://localhost:8080/",
     "height": 35
    },
    "id": "8LJmYsdt_dOD",
    "outputId": "9fc9979f-68e5-4ca9-becb-0c23765413de"
   },
   "outputs": [
    {
     "ename": "AuthenticationError",
     "evalue": "Error code: 401 - {'error': {'message': 'Incorrect API key provided: None. You can find your API key at https://platform.openai.com/account/api-keys.', 'type': 'invalid_request_error', 'param': None, 'code': 'invalid_api_key'}}",
     "output_type": "error",
     "traceback": [
      "\u001b[0;31m---------------------------------------------------------------------------\u001b[0m",
      "\u001b[0;31mAuthenticationError\u001b[0m                       Traceback (most recent call last)",
      "Cell \u001b[0;32mIn[7], line 13\u001b[0m\n\u001b[1;32m      2\u001b[0m     response \u001b[38;5;241m=\u001b[39m openai\u001b[38;5;241m.\u001b[39mchat\u001b[38;5;241m.\u001b[39mcompletions\u001b[38;5;241m.\u001b[39mcreate(\n\u001b[1;32m      3\u001b[0m         model\u001b[38;5;241m=\u001b[39m\u001b[38;5;124m\"\u001b[39m\u001b[38;5;124mgpt-3.5-turbo\u001b[39m\u001b[38;5;124m\"\u001b[39m,\n\u001b[1;32m      4\u001b[0m         messages\u001b[38;5;241m=\u001b[39m[\n\u001b[0;32m   (...)\u001b[0m\n\u001b[1;32m      9\u001b[0m         ],\n\u001b[1;32m     10\u001b[0m     )\n\u001b[1;32m     11\u001b[0m     \u001b[38;5;28;01mreturn\u001b[39;00m response\u001b[38;5;241m.\u001b[39mchoices[\u001b[38;5;241m0\u001b[39m]\u001b[38;5;241m.\u001b[39mmessage\u001b[38;5;241m.\u001b[39mcontent\n\u001b[0;32m---> 13\u001b[0m complete(\u001b[38;5;124m\"\u001b[39m\u001b[38;5;124mSummarize Relational database in 100 words\u001b[39m\u001b[38;5;124m\"\u001b[39m)\n",
      "Cell \u001b[0;32mIn[7], line 2\u001b[0m, in \u001b[0;36mcomplete\u001b[0;34m(prompt)\u001b[0m\n\u001b[1;32m      1\u001b[0m \u001b[38;5;28;01mdef\u001b[39;00m \u001b[38;5;21mcomplete\u001b[39m(prompt):\n\u001b[0;32m----> 2\u001b[0m     response \u001b[38;5;241m=\u001b[39m openai\u001b[38;5;241m.\u001b[39mchat\u001b[38;5;241m.\u001b[39mcompletions\u001b[38;5;241m.\u001b[39mcreate(\n\u001b[1;32m      3\u001b[0m         model\u001b[38;5;241m=\u001b[39m\u001b[38;5;124m\"\u001b[39m\u001b[38;5;124mgpt-3.5-turbo\u001b[39m\u001b[38;5;124m\"\u001b[39m,\n\u001b[1;32m      4\u001b[0m         messages\u001b[38;5;241m=\u001b[39m[\n\u001b[1;32m      5\u001b[0m             {\n\u001b[1;32m      6\u001b[0m             \u001b[38;5;124m\"\u001b[39m\u001b[38;5;124mrole\u001b[39m\u001b[38;5;124m\"\u001b[39m: \u001b[38;5;124m\"\u001b[39m\u001b[38;5;124muser\u001b[39m\u001b[38;5;124m\"\u001b[39m,\n\u001b[1;32m      7\u001b[0m             \u001b[38;5;124m\"\u001b[39m\u001b[38;5;124mcontent\u001b[39m\u001b[38;5;124m\"\u001b[39m: prompt\n\u001b[1;32m      8\u001b[0m             }\n\u001b[1;32m      9\u001b[0m         ],\n\u001b[1;32m     10\u001b[0m     )\n\u001b[1;32m     11\u001b[0m     \u001b[38;5;28;01mreturn\u001b[39;00m response\u001b[38;5;241m.\u001b[39mchoices[\u001b[38;5;241m0\u001b[39m]\u001b[38;5;241m.\u001b[39mmessage\u001b[38;5;241m.\u001b[39mcontent\n",
      "File \u001b[0;32m/opt/anaconda3/lib/python3.11/site-packages/openai/_utils/_utils.py:275\u001b[0m, in \u001b[0;36mrequired_args.<locals>.inner.<locals>.wrapper\u001b[0;34m(*args, **kwargs)\u001b[0m\n\u001b[1;32m    273\u001b[0m             msg \u001b[38;5;241m=\u001b[39m \u001b[38;5;124mf\u001b[39m\u001b[38;5;124m\"\u001b[39m\u001b[38;5;124mMissing required argument: \u001b[39m\u001b[38;5;132;01m{\u001b[39;00mquote(missing[\u001b[38;5;241m0\u001b[39m])\u001b[38;5;132;01m}\u001b[39;00m\u001b[38;5;124m\"\u001b[39m\n\u001b[1;32m    274\u001b[0m     \u001b[38;5;28;01mraise\u001b[39;00m \u001b[38;5;167;01mTypeError\u001b[39;00m(msg)\n\u001b[0;32m--> 275\u001b[0m \u001b[38;5;28;01mreturn\u001b[39;00m func(\u001b[38;5;241m*\u001b[39margs, \u001b[38;5;241m*\u001b[39m\u001b[38;5;241m*\u001b[39mkwargs)\n",
      "File \u001b[0;32m/opt/anaconda3/lib/python3.11/site-packages/openai/resources/chat/completions.py:667\u001b[0m, in \u001b[0;36mCompletions.create\u001b[0;34m(self, messages, model, frequency_penalty, function_call, functions, logit_bias, logprobs, max_tokens, n, presence_penalty, response_format, seed, stop, stream, temperature, tool_choice, tools, top_logprobs, top_p, user, extra_headers, extra_query, extra_body, timeout)\u001b[0m\n\u001b[1;32m    615\u001b[0m \u001b[38;5;129m@required_args\u001b[39m([\u001b[38;5;124m\"\u001b[39m\u001b[38;5;124mmessages\u001b[39m\u001b[38;5;124m\"\u001b[39m, \u001b[38;5;124m\"\u001b[39m\u001b[38;5;124mmodel\u001b[39m\u001b[38;5;124m\"\u001b[39m], [\u001b[38;5;124m\"\u001b[39m\u001b[38;5;124mmessages\u001b[39m\u001b[38;5;124m\"\u001b[39m, \u001b[38;5;124m\"\u001b[39m\u001b[38;5;124mmodel\u001b[39m\u001b[38;5;124m\"\u001b[39m, \u001b[38;5;124m\"\u001b[39m\u001b[38;5;124mstream\u001b[39m\u001b[38;5;124m\"\u001b[39m])\n\u001b[1;32m    616\u001b[0m \u001b[38;5;28;01mdef\u001b[39;00m \u001b[38;5;21mcreate\u001b[39m(\n\u001b[1;32m    617\u001b[0m     \u001b[38;5;28mself\u001b[39m,\n\u001b[0;32m   (...)\u001b[0m\n\u001b[1;32m    665\u001b[0m     timeout: \u001b[38;5;28mfloat\u001b[39m \u001b[38;5;241m|\u001b[39m httpx\u001b[38;5;241m.\u001b[39mTimeout \u001b[38;5;241m|\u001b[39m \u001b[38;5;28;01mNone\u001b[39;00m \u001b[38;5;241m|\u001b[39m NotGiven \u001b[38;5;241m=\u001b[39m NOT_GIVEN,\n\u001b[1;32m    666\u001b[0m ) \u001b[38;5;241m-\u001b[39m\u001b[38;5;241m>\u001b[39m ChatCompletion \u001b[38;5;241m|\u001b[39m Stream[ChatCompletionChunk]:\n\u001b[0;32m--> 667\u001b[0m     \u001b[38;5;28;01mreturn\u001b[39;00m \u001b[38;5;28mself\u001b[39m\u001b[38;5;241m.\u001b[39m_post(\n\u001b[1;32m    668\u001b[0m         \u001b[38;5;124m\"\u001b[39m\u001b[38;5;124m/chat/completions\u001b[39m\u001b[38;5;124m\"\u001b[39m,\n\u001b[1;32m    669\u001b[0m         body\u001b[38;5;241m=\u001b[39mmaybe_transform(\n\u001b[1;32m    670\u001b[0m             {\n\u001b[1;32m    671\u001b[0m                 \u001b[38;5;124m\"\u001b[39m\u001b[38;5;124mmessages\u001b[39m\u001b[38;5;124m\"\u001b[39m: messages,\n\u001b[1;32m    672\u001b[0m                 \u001b[38;5;124m\"\u001b[39m\u001b[38;5;124mmodel\u001b[39m\u001b[38;5;124m\"\u001b[39m: model,\n\u001b[1;32m    673\u001b[0m                 \u001b[38;5;124m\"\u001b[39m\u001b[38;5;124mfrequency_penalty\u001b[39m\u001b[38;5;124m\"\u001b[39m: frequency_penalty,\n\u001b[1;32m    674\u001b[0m                 \u001b[38;5;124m\"\u001b[39m\u001b[38;5;124mfunction_call\u001b[39m\u001b[38;5;124m\"\u001b[39m: function_call,\n\u001b[1;32m    675\u001b[0m                 \u001b[38;5;124m\"\u001b[39m\u001b[38;5;124mfunctions\u001b[39m\u001b[38;5;124m\"\u001b[39m: functions,\n\u001b[1;32m    676\u001b[0m                 \u001b[38;5;124m\"\u001b[39m\u001b[38;5;124mlogit_bias\u001b[39m\u001b[38;5;124m\"\u001b[39m: logit_bias,\n\u001b[1;32m    677\u001b[0m                 \u001b[38;5;124m\"\u001b[39m\u001b[38;5;124mlogprobs\u001b[39m\u001b[38;5;124m\"\u001b[39m: logprobs,\n\u001b[1;32m    678\u001b[0m                 \u001b[38;5;124m\"\u001b[39m\u001b[38;5;124mmax_tokens\u001b[39m\u001b[38;5;124m\"\u001b[39m: max_tokens,\n\u001b[1;32m    679\u001b[0m                 \u001b[38;5;124m\"\u001b[39m\u001b[38;5;124mn\u001b[39m\u001b[38;5;124m\"\u001b[39m: n,\n\u001b[1;32m    680\u001b[0m                 \u001b[38;5;124m\"\u001b[39m\u001b[38;5;124mpresence_penalty\u001b[39m\u001b[38;5;124m\"\u001b[39m: presence_penalty,\n\u001b[1;32m    681\u001b[0m                 \u001b[38;5;124m\"\u001b[39m\u001b[38;5;124mresponse_format\u001b[39m\u001b[38;5;124m\"\u001b[39m: response_format,\n\u001b[1;32m    682\u001b[0m                 \u001b[38;5;124m\"\u001b[39m\u001b[38;5;124mseed\u001b[39m\u001b[38;5;124m\"\u001b[39m: seed,\n\u001b[1;32m    683\u001b[0m                 \u001b[38;5;124m\"\u001b[39m\u001b[38;5;124mstop\u001b[39m\u001b[38;5;124m\"\u001b[39m: stop,\n\u001b[1;32m    684\u001b[0m                 \u001b[38;5;124m\"\u001b[39m\u001b[38;5;124mstream\u001b[39m\u001b[38;5;124m\"\u001b[39m: stream,\n\u001b[1;32m    685\u001b[0m                 \u001b[38;5;124m\"\u001b[39m\u001b[38;5;124mtemperature\u001b[39m\u001b[38;5;124m\"\u001b[39m: temperature,\n\u001b[1;32m    686\u001b[0m                 \u001b[38;5;124m\"\u001b[39m\u001b[38;5;124mtool_choice\u001b[39m\u001b[38;5;124m\"\u001b[39m: tool_choice,\n\u001b[1;32m    687\u001b[0m                 \u001b[38;5;124m\"\u001b[39m\u001b[38;5;124mtools\u001b[39m\u001b[38;5;124m\"\u001b[39m: tools,\n\u001b[1;32m    688\u001b[0m                 \u001b[38;5;124m\"\u001b[39m\u001b[38;5;124mtop_logprobs\u001b[39m\u001b[38;5;124m\"\u001b[39m: top_logprobs,\n\u001b[1;32m    689\u001b[0m                 \u001b[38;5;124m\"\u001b[39m\u001b[38;5;124mtop_p\u001b[39m\u001b[38;5;124m\"\u001b[39m: top_p,\n\u001b[1;32m    690\u001b[0m                 \u001b[38;5;124m\"\u001b[39m\u001b[38;5;124muser\u001b[39m\u001b[38;5;124m\"\u001b[39m: user,\n\u001b[1;32m    691\u001b[0m             },\n\u001b[1;32m    692\u001b[0m             completion_create_params\u001b[38;5;241m.\u001b[39mCompletionCreateParams,\n\u001b[1;32m    693\u001b[0m         ),\n\u001b[1;32m    694\u001b[0m         options\u001b[38;5;241m=\u001b[39mmake_request_options(\n\u001b[1;32m    695\u001b[0m             extra_headers\u001b[38;5;241m=\u001b[39mextra_headers, extra_query\u001b[38;5;241m=\u001b[39mextra_query, extra_body\u001b[38;5;241m=\u001b[39mextra_body, timeout\u001b[38;5;241m=\u001b[39mtimeout\n\u001b[1;32m    696\u001b[0m         ),\n\u001b[1;32m    697\u001b[0m         cast_to\u001b[38;5;241m=\u001b[39mChatCompletion,\n\u001b[1;32m    698\u001b[0m         stream\u001b[38;5;241m=\u001b[39mstream \u001b[38;5;129;01mor\u001b[39;00m \u001b[38;5;28;01mFalse\u001b[39;00m,\n\u001b[1;32m    699\u001b[0m         stream_cls\u001b[38;5;241m=\u001b[39mStream[ChatCompletionChunk],\n\u001b[1;32m    700\u001b[0m     )\n",
      "File \u001b[0;32m/opt/anaconda3/lib/python3.11/site-packages/openai/_base_client.py:1208\u001b[0m, in \u001b[0;36mSyncAPIClient.post\u001b[0;34m(self, path, cast_to, body, options, files, stream, stream_cls)\u001b[0m\n\u001b[1;32m   1194\u001b[0m \u001b[38;5;28;01mdef\u001b[39;00m \u001b[38;5;21mpost\u001b[39m(\n\u001b[1;32m   1195\u001b[0m     \u001b[38;5;28mself\u001b[39m,\n\u001b[1;32m   1196\u001b[0m     path: \u001b[38;5;28mstr\u001b[39m,\n\u001b[0;32m   (...)\u001b[0m\n\u001b[1;32m   1203\u001b[0m     stream_cls: \u001b[38;5;28mtype\u001b[39m[_StreamT] \u001b[38;5;241m|\u001b[39m \u001b[38;5;28;01mNone\u001b[39;00m \u001b[38;5;241m=\u001b[39m \u001b[38;5;28;01mNone\u001b[39;00m,\n\u001b[1;32m   1204\u001b[0m ) \u001b[38;5;241m-\u001b[39m\u001b[38;5;241m>\u001b[39m ResponseT \u001b[38;5;241m|\u001b[39m _StreamT:\n\u001b[1;32m   1205\u001b[0m     opts \u001b[38;5;241m=\u001b[39m FinalRequestOptions\u001b[38;5;241m.\u001b[39mconstruct(\n\u001b[1;32m   1206\u001b[0m         method\u001b[38;5;241m=\u001b[39m\u001b[38;5;124m\"\u001b[39m\u001b[38;5;124mpost\u001b[39m\u001b[38;5;124m\"\u001b[39m, url\u001b[38;5;241m=\u001b[39mpath, json_data\u001b[38;5;241m=\u001b[39mbody, files\u001b[38;5;241m=\u001b[39mto_httpx_files(files), \u001b[38;5;241m*\u001b[39m\u001b[38;5;241m*\u001b[39moptions\n\u001b[1;32m   1207\u001b[0m     )\n\u001b[0;32m-> 1208\u001b[0m     \u001b[38;5;28;01mreturn\u001b[39;00m cast(ResponseT, \u001b[38;5;28mself\u001b[39m\u001b[38;5;241m.\u001b[39mrequest(cast_to, opts, stream\u001b[38;5;241m=\u001b[39mstream, stream_cls\u001b[38;5;241m=\u001b[39mstream_cls))\n",
      "File \u001b[0;32m/opt/anaconda3/lib/python3.11/site-packages/openai/_base_client.py:897\u001b[0m, in \u001b[0;36mSyncAPIClient.request\u001b[0;34m(self, cast_to, options, remaining_retries, stream, stream_cls)\u001b[0m\n\u001b[1;32m    888\u001b[0m \u001b[38;5;28;01mdef\u001b[39;00m \u001b[38;5;21mrequest\u001b[39m(\n\u001b[1;32m    889\u001b[0m     \u001b[38;5;28mself\u001b[39m,\n\u001b[1;32m    890\u001b[0m     cast_to: Type[ResponseT],\n\u001b[0;32m   (...)\u001b[0m\n\u001b[1;32m    895\u001b[0m     stream_cls: \u001b[38;5;28mtype\u001b[39m[_StreamT] \u001b[38;5;241m|\u001b[39m \u001b[38;5;28;01mNone\u001b[39;00m \u001b[38;5;241m=\u001b[39m \u001b[38;5;28;01mNone\u001b[39;00m,\n\u001b[1;32m    896\u001b[0m ) \u001b[38;5;241m-\u001b[39m\u001b[38;5;241m>\u001b[39m ResponseT \u001b[38;5;241m|\u001b[39m _StreamT:\n\u001b[0;32m--> 897\u001b[0m     \u001b[38;5;28;01mreturn\u001b[39;00m \u001b[38;5;28mself\u001b[39m\u001b[38;5;241m.\u001b[39m_request(\n\u001b[1;32m    898\u001b[0m         cast_to\u001b[38;5;241m=\u001b[39mcast_to,\n\u001b[1;32m    899\u001b[0m         options\u001b[38;5;241m=\u001b[39moptions,\n\u001b[1;32m    900\u001b[0m         stream\u001b[38;5;241m=\u001b[39mstream,\n\u001b[1;32m    901\u001b[0m         stream_cls\u001b[38;5;241m=\u001b[39mstream_cls,\n\u001b[1;32m    902\u001b[0m         remaining_retries\u001b[38;5;241m=\u001b[39mremaining_retries,\n\u001b[1;32m    903\u001b[0m     )\n",
      "File \u001b[0;32m/opt/anaconda3/lib/python3.11/site-packages/openai/_base_client.py:988\u001b[0m, in \u001b[0;36mSyncAPIClient._request\u001b[0;34m(self, cast_to, options, remaining_retries, stream, stream_cls)\u001b[0m\n\u001b[1;32m    985\u001b[0m         err\u001b[38;5;241m.\u001b[39mresponse\u001b[38;5;241m.\u001b[39mread()\n\u001b[1;32m    987\u001b[0m     log\u001b[38;5;241m.\u001b[39mdebug(\u001b[38;5;124m\"\u001b[39m\u001b[38;5;124mRe-raising status error\u001b[39m\u001b[38;5;124m\"\u001b[39m)\n\u001b[0;32m--> 988\u001b[0m     \u001b[38;5;28;01mraise\u001b[39;00m \u001b[38;5;28mself\u001b[39m\u001b[38;5;241m.\u001b[39m_make_status_error_from_response(err\u001b[38;5;241m.\u001b[39mresponse) \u001b[38;5;28;01mfrom\u001b[39;00m \u001b[38;5;28;01mNone\u001b[39;00m\n\u001b[1;32m    990\u001b[0m \u001b[38;5;28;01mreturn\u001b[39;00m \u001b[38;5;28mself\u001b[39m\u001b[38;5;241m.\u001b[39m_process_response(\n\u001b[1;32m    991\u001b[0m     cast_to\u001b[38;5;241m=\u001b[39mcast_to,\n\u001b[1;32m    992\u001b[0m     options\u001b[38;5;241m=\u001b[39moptions,\n\u001b[0;32m   (...)\u001b[0m\n\u001b[1;32m    995\u001b[0m     stream_cls\u001b[38;5;241m=\u001b[39mstream_cls,\n\u001b[1;32m    996\u001b[0m )\n",
      "\u001b[0;31mAuthenticationError\u001b[0m: Error code: 401 - {'error': {'message': 'Incorrect API key provided: None. You can find your API key at https://platform.openai.com/account/api-keys.', 'type': 'invalid_request_error', 'param': None, 'code': 'invalid_api_key'}}"
     ]
    }
   ],
   "source": [
    "def complete(prompt):\n",
    "    response = openai.chat.completions.create(\n",
    "        model=\"gpt-3.5-turbo\",\n",
    "        messages=[\n",
    "            {\n",
    "            \"role\": \"user\",\n",
    "            \"content\": prompt\n",
    "            }\n",
    "        ],\n",
    "    )\n",
    "    return response.choices[0].message.content\n",
    "\n",
    "complete(\"Summarize Relational database in 100 words\")"
   ]
  },
  {
   "cell_type": "code",
   "execution_count": 5,
   "metadata": {
    "colab": {
     "base_uri": "https://localhost:8080/",
     "height": 142
    },
    "id": "3kqZ8by6EaQf",
    "outputId": "44cc3d80-ad08-49c0-c6ba-2e32e16c59ae"
   },
   "outputs": [
    {
     "data": {
      "text/plain": [
       "\"1. Introduction \\n    a. Definition of data engineering \\n2. Role and Responsibilities of a Data Engineer \\n    a. Designing, constructing, installing, testing and maintaining data management systems\\n    b. Ensuring systems meet business requirements and industry practices\\n    c. Data architecture, modeling, and governance tasks \\n    d. Building algorithms to extract needed information\\n3. Importance of Data Engineering \\n    a. Efficiency in managing big data\\n    b. Necessary for data science and machine learning operations\\n    c. Vital in decision-making process \\n    d. Ensuring data reliability and accessibility \\n4. Key Concepts in Data Engineering\\n    a. Data Modelling\\n    b. Data Warehousing\\n    c. ETL (Extract, Transform, Load) Process\\n    d. Data Mining \\n5. Tools Used in Data Engineering \\n    a. Hadoop\\n    b. Panda\\n    c. SQL\\n    d. Python \\n6. The future of Data Engineering \\n    a. Growing demand for data engineers\\n    b. Path towards automation\\n    c. Interplay with AI and Machine Learning \\n7. Conclusion\\n    a. Recap on the importance and role of  data engineers\\n    b. Why understanding data engineering is critical in today's data-driven world.\""
      ]
     },
     "execution_count": 5,
     "metadata": {},
     "output_type": "execute_result"
    }
   ],
   "source": [
    "# Setup the article title\n",
    "article = \"What is data engineering?\"\n",
    "# Inject the article title into the base prompt\n",
    "base_prompt = f'Write a numbered, hierarchical outline for an article on \"{article}\"\\n\\nHere is an example, of the structure:\\n\\n1. Introduction \\n    a. Definition of digital marketing \\n2. Types of Digital Marketing \\n    a. Search Engine Optimization \\n    b. Social Media Marketing \\n    c. Content Marketing \\n    d. Pay-Per-Click Advertising \\n    e. Email Marketing \\n3. Benefits of Digital Marketing \\n    a. Cost-Effective \\n    b. Targeted Audience \\n    c. Measurable Results \\n    d. Increased Reach \\n\\n----\\n'\n",
    "\n",
    "result = complete(base_prompt)\n",
    "result\n",
    "\n",
    "# Combine the two patterns so that we have a dictionary that looks like this:\n",
    "# {\n",
    "#     \"1. Introduction\": {\"a.\": \"Definition of digital marketing\"},\n",
    "#     \"2. Types of Digital Marketing\": {\n",
    "#         \"a.\": \"Cost-Effective\",\n",
    "#         \"b.\": \"Targeted Audience\",\n",
    "#         \"c.\": \"Measurable Results\",\n",
    "#     },\n",
    "# }"
   ]
  },
  {
   "cell_type": "code",
   "execution_count": 6,
   "metadata": {
    "colab": {
     "base_uri": "https://localhost:8080/"
    },
    "id": "eKolBe7EHjGZ",
    "outputId": "c0f7397d-e7c3-4674-b621-904da46434a7"
   },
   "outputs": [
    {
     "name": "stdout",
     "output_type": "stream",
     "text": [
      "1. Introduction \n",
      "    a. Definition of data engineering \n",
      "2. Role and Responsibilities of a Data Engineer \n",
      "    a. Designing, constructing, installing, testing and maintaining data management systems\n",
      "    b. Ensuring systems meet business requirements and industry practices\n",
      "    c. Data architecture, modeling, and governance tasks \n",
      "    d. Building algorithms to extract needed information\n",
      "3. Importance of Data Engineering \n",
      "    a. Efficiency in managing big data\n",
      "    b. Necessary for data science and machine learning operations\n",
      "    c. Vital in decision-making process \n",
      "    d. Ensuring data reliability and accessibility \n",
      "4. Key Concepts in Data Engineering\n",
      "    a. Data Modelling\n",
      "    b. Data Warehousing\n",
      "    c. ETL (Extract, Transform, Load) Process\n",
      "    d. Data Mining \n",
      "5. Tools Used in Data Engineering \n",
      "    a. Hadoop\n",
      "    b. Panda\n",
      "    c. SQL\n",
      "    d. Python \n",
      "6. The future of Data Engineering \n",
      "    a. Growing demand for data engineers\n",
      "    b. Path towards automation\n",
      "    c. Interplay with AI and Machine Learning \n",
      "7. Conclusion\n",
      "    a. Recap on the importance and role of  data engineers\n",
      "    b. Why understanding data engineering is critical in today's data-driven world.\n"
     ]
    }
   ],
   "source": [
    "print(result)"
   ]
  },
  {
   "cell_type": "code",
   "execution_count": 7,
   "metadata": {
    "id": "6e_evQ_PEgHd"
   },
   "outputs": [],
   "source": [
    "# Extract main sections\n",
    "main_sections = re.findall(r'\\d+\\..*?(?=^\\d+|\\Z)', result, re.MULTILINE | re.DOTALL)\n",
    "\n",
    "# Extract sub-sections\n",
    "sections = {}\n",
    "for section in main_sections:\n",
    "    section_title = re.search(r'\\d+\\..+', section).group(0)\n",
    "    sub_sections = re.findall(r'\\s+[a-z]\\..+', section, re.MULTILINE)\n",
    "    sections[section_title] = [heading.strip() for heading in  sub_sections]"
   ]
  },
  {
   "cell_type": "code",
   "execution_count": 8,
   "metadata": {
    "colab": {
     "base_uri": "https://localhost:8080/"
    },
    "id": "7gcdBbNrEq5j",
    "outputId": "afd759f2-da3c-452f-b927-a311dedaaf71"
   },
   "outputs": [
    {
     "name": "stdout",
     "output_type": "stream",
     "text": [
      "{'1. Introduction ': ['a. Definition of data engineering'], '2. Role and Responsibilities of a Data Engineer ': ['a. Designing, constructing, installing, testing and maintaining data management systems', 'b. Ensuring systems meet business requirements and industry practices', 'c. Data architecture, modeling, and governance tasks', 'd. Building algorithms to extract needed information'], '3. Importance of Data Engineering ': ['a. Efficiency in managing big data', 'b. Necessary for data science and machine learning operations', 'c. Vital in decision-making process', 'd. Ensuring data reliability and accessibility'], '4. Key Concepts in Data Engineering': ['a. Data Modelling', 'b. Data Warehousing', 'c. ETL (Extract, Transform, Load) Process', 'd. Data Mining'], '5. Tools Used in Data Engineering ': ['a. Hadoop', 'b. Panda', 'c. SQL', 'd. Python'], '6. The future of Data Engineering ': ['a. Growing demand for data engineers', 'b. Path towards automation', 'c. Interplay with AI and Machine Learning'], '7. Conclusion': ['a. Recap on the importance and role of  data engineers', \"b. Why understanding data engineering is critical in today's data-driven world.\"]}\n"
     ]
    }
   ],
   "source": [
    "print(sections)"
   ]
  },
  {
   "cell_type": "code",
   "execution_count": 9,
   "metadata": {
    "id": "sUijI4BCEs-H"
   },
   "outputs": [],
   "source": [
    "prompt = \"Produce an article outline for \\\"What is data engineering?\\\"\\n\\nHere is an example, of the structure. Always return valid JSON.\\n\\n{\\n\\\"top_heading_one:\\\": [\\\"subheading_one\\\", \\\"subheading_two\\\"],\\n\\\"top_heading_two:\\\": [\\\"subheading_one\\\", \\\"subheading_two\\\"],\\n} \\n\\nRemember that the ouput must be like the above, and must be parsable JSON.\\n\\n----\\n\\n\"\n",
    "result = complete(prompt)"
   ]
  },
  {
   "cell_type": "code",
   "execution_count": null,
   "metadata": {
    "colab": {
     "base_uri": "https://localhost:8080/",
     "height": 142
    },
    "id": "ncO-eeeEIJdR",
    "outputId": "2adf44af-45ec-4ba8-9c02-f5946fe8b914"
   },
   "outputs": [
    {
     "data": {
      "application/vnd.google.colaboratory.intrinsic+json": {
       "type": "string"
      },
      "text/plain": [
       "'{\\n\"Introduction:\": [\"Defining Data Engineering\", \"Importance of Data Engineering\"],\\n\\n\"A Detailed Look into Data Engineering:\": [\"Roles and Responsibilities of a Data Engineer\", \"Importance of Data Engineers in the Tech Industry\"],\\n\\n\"Different Tools Used by Data Engineers:\": [\"Understanding Databases and SQL\", \"Introduction to Hadoop and Apache Spark\", \"Exploring Python and Java for Data Engineering\"],\\n\\n\"The Processes in Data Engineering:\": [\"Data Ingestion\", \"Data Transformation\",  \"Data Storage\", \"Data Validation\"],\\n\\n\"Demystifying Various Aspects of Data Engineering:\": [\"Big Data and Data Engineering\", \"Real-Time Processing in Data Engineering\", \"Data Engineering and Machine Learning\"],\\n\\n\"The Future of Data Engineering:\": [\"Emerging Trends in Data Engineering\", \"How AI is Transforming Data Engineering\"],  \\n\\n\"Conclusion:\": [\"Key Takeaways\", \"Career Prospects in Data Engineering\"]\\n}'"
      ]
     },
     "execution_count": 12,
     "metadata": {},
     "output_type": "execute_result"
    }
   ],
   "source": [
    "result"
   ]
  },
  {
   "cell_type": "code",
   "execution_count": 11,
   "metadata": {
    "colab": {
     "base_uri": "https://localhost:8080/"
    },
    "id": "CGz4WhiOIMOX",
    "outputId": "d0902ac1-04c2-47e3-c3c5-3374b487af5d"
   },
   "outputs": [
    {
     "data": {
      "text/plain": [
       "{'Introduction': ['Understanding the Concept of Data Engineering',\n",
       "  'Emergence and Importance of Data Engineering'],\n",
       " 'Understanding Data Engineering:': ['Defining Data Engineering',\n",
       "  'Role of a Data Engineer'],\n",
       " 'Components of Data Engineering': ['Data Architecture',\n",
       "  'Data Modeling',\n",
       "  'Data Warehousing',\n",
       "  'Data Integration',\n",
       "  'Data Governance'],\n",
       " 'Data Engineering and Business': [\"Importance of Data Engineering in Today's Business\",\n",
       "  'Role of Data Engineering in Decision Making'],\n",
       " 'Key Skills for Data Engineers': ['Proficiency in SQL',\n",
       "  'Understanding of Distributed Systems',\n",
       "  'Knowledge of Algorithms and Data Structures',\n",
       "  'Experience with Data Visualization Tools',\n",
       "  'Coding and Scripting Skills'],\n",
       " 'Challenges in Data Engineering': ['Data Complexity',\n",
       "  'Data Privacy and Security',\n",
       "  'Data Integration Issues'],\n",
       " 'Future of Data Engineering': ['Trends Shaping the Future of Data Engineering',\n",
       "  'Career Prospects for Data Engineers']}"
      ]
     },
     "execution_count": 11,
     "metadata": {},
     "output_type": "execute_result"
    }
   ],
   "source": [
    "json.loads(result)"
   ]
  },
  {
   "cell_type": "code",
   "execution_count": 12,
   "metadata": {
    "colab": {
     "base_uri": "https://localhost:8080/"
    },
    "id": "hPmbipLCJWvZ",
    "outputId": "014d64ba-51a4-4d04-dab6-f6877b626328"
   },
   "outputs": [
    {
     "name": "stdout",
     "output_type": "stream",
     "text": [
      "{'Introduction': ['Understanding the Concept of Data Engineering', 'Emergence and Importance of Data Engineering'], 'Understanding Data Engineering:': ['Defining Data Engineering', 'Role of a Data Engineer'], 'Components of Data Engineering': ['Data Architecture', 'Data Modeling', 'Data Warehousing', 'Data Integration', 'Data Governance'], 'Data Engineering and Business': [\"Importance of Data Engineering in Today's Business\", 'Role of Data Engineering in Decision Making'], 'Key Skills for Data Engineers': ['Proficiency in SQL', 'Understanding of Distributed Systems', 'Knowledge of Algorithms and Data Structures', 'Experience with Data Visualization Tools', 'Coding and Scripting Skills'], 'Challenges in Data Engineering': ['Data Complexity', 'Data Privacy and Security', 'Data Integration Issues'], 'Future of Data Engineering': ['Trends Shaping the Future of Data Engineering', 'Career Prospects for Data Engineers']}\n"
     ]
    }
   ],
   "source": [
    "try:\n",
    "  print(json.loads(result))\n",
    "except Exception as e:\n",
    "  # Re-running the gpt-4\n",
    "  pass\n",
    "  # Parsing the text and trying to extract the data from the string"
   ]
  },
  {
   "cell_type": "code",
   "execution_count": 13,
   "metadata": {
    "colab": {
     "base_uri": "https://localhost:8080/"
    },
    "id": "7lc-G2GSLHxE",
    "outputId": "a9b27164-3e1e-445d-e8ca-24e008634be8"
   },
   "outputs": [
    {
     "name": "stdout",
     "output_type": "stream",
     "text": [
      "Requirement already satisfied: pyyaml in /Users/dan/anaconda3/lib/python3.11/site-packages (6.0)\n"
     ]
    }
   ],
   "source": [
    "!pip install pyyaml\n",
    "\n",
    "import yaml"
   ]
  },
  {
   "cell_type": "code",
   "execution_count": 14,
   "metadata": {
    "colab": {
     "base_uri": "https://localhost:8080/",
     "height": 142
    },
    "id": "d5_t41V4MMGq",
    "outputId": "f5808db1-8a70-442c-c200-ad84f088d205"
   },
   "outputs": [
    {
     "data": {
      "text/plain": [
       "'- name: What is data engineering?\\n  description: An overview of the data engineering field, its importance, components, roles, and career opportunities.\\n  sections:\\n    - title: Introduction\\n      content: |\\n        An introduction to the data engineering, importance and need in the industry.\\n    - title: The need for data engineering\\n      content: |\\n        A detailed description about the various scenarios where data engineering is implemented.\\n    - title: The components of data engineering\\n      content: |\\n        A rundown of the different aspects of data engineering including data cleaning, data architecture etc.\\n    - title: Roles in data engineering\\n      content: |\\n        A deep-dive into the different roles in data engineering such as Data Engineer, Data Scientist, Data Analyst etc.\\n    - title: Career opportunities in data engineering\\n      content: |\\n        Information on how to start a profession in data engineering, including education requirements, skill sets, work experience, and potential job outlook.\\n    - title: Conclusion\\n      content: |\\n        Recap of why data engineering is crucial in our current technologically advanced society and the potential it holds for future developments.\\n    - title: References\\n      content: |\\n        Citation of resources used to gather information for this article.'"
      ]
     },
     "execution_count": 14,
     "metadata": {},
     "output_type": "execute_result"
    }
   ],
   "source": [
    "prompt = \"Produce an article outline in the format a .yml file for \\\"What is data engineering?\\\"\\n\\nAlways return valid YML.\\n\\nHere is an example:\\n\\n- name: Example YAML File\\n  description: This is an example YAML file.\\n  sections:\\n    - title: Introduction\\n      content: |\\n        This is the introduction.\\n    - title: Conclusion\\n      content: |\\n        This is the conclusion.\\n\\n----\\n\\n\\n\"\n",
    "text = complete(prompt)\n",
    "text"
   ]
  },
  {
   "cell_type": "code",
   "execution_count": null,
   "metadata": {
    "colab": {
     "base_uri": "https://localhost:8080/"
    },
    "id": "Ywehf4LtN1HC",
    "outputId": "7f3be16b-a217-404e-d5ae-05c74c178f6f"
   },
   "outputs": [
    {
     "name": "stdout",
     "output_type": "stream",
     "text": [
      "- name: What is Data Engineering?\n",
      "  description: This article provides an in-depth look at data engineering, explaining what it is, its importance, and the roles of a data engineer.\n",
      "  sections:\n",
      "    - title: Introduction\n",
      "      content: |\n",
      "        Initiates the article with a brief overview of data engineering.\n",
      "        \n",
      "    - title: Understanding Data Engineering\n",
      "      content: |\n",
      "        Explains the concept of data engineering, its purpose and value in a modern business environment.\n",
      "        \n",
      "    - title: Importance of Data Engineering\n",
      "      content: |\n",
      "        Discusses the pivotal role of data engineering in data analysis, decision-making process, and overall business intelligence.\n",
      "\n",
      "    - title: Roles and Responsibilities of a Data Engineer\n",
      "      content: |\n",
      "        Outlines the vital functions data engineers perform in an organization, ranging from developing, testing, to maintaining databases and large-scale processing systems.\n",
      "\n",
      "    - title: Required Skills for Data Engineering\n",
      "      content: |\n",
      "        Highlights the key competencies, both technical and non-technical, one needs to excel in data engineering.\n",
      "\n",
      "    - title: Conclusion\n",
      "      content: |\n",
      "        Recaps the key points about data engineering and emphasizes its significance in the age of big data.  \n",
      "        \n",
      "    - title: Further Readings\n",
      "      content: |\n",
      "\n"
     ]
    }
   ],
   "source": [
    "print(text)"
   ]
  },
  {
   "cell_type": "code",
   "execution_count": 15,
   "metadata": {
    "id": "xc5RTCrDM001"
   },
   "outputs": [],
   "source": [
    "# Load the YAML string into a Python object\n",
    "data = yaml.load(text, Loader=yaml.FullLoader)"
   ]
  },
  {
   "cell_type": "code",
   "execution_count": 16,
   "metadata": {
    "colab": {
     "base_uri": "https://localhost:8080/"
    },
    "id": "evBZVnCoNI32",
    "outputId": "28aa4339-fd87-4466-fe65-814f85f7303b"
   },
   "outputs": [
    {
     "name": "stdout",
     "output_type": "stream",
     "text": [
      "[{'name': 'What is data engineering?', 'description': 'An overview of the data engineering field, its importance, components, roles, and career opportunities.', 'sections': [{'title': 'Introduction', 'content': 'An introduction to the data engineering, importance and need in the industry.\\n'}, {'title': 'The need for data engineering', 'content': 'A detailed description about the various scenarios where data engineering is implemented.\\n'}, {'title': 'The components of data engineering', 'content': 'A rundown of the different aspects of data engineering including data cleaning, data architecture etc.\\n'}, {'title': 'Roles in data engineering', 'content': 'A deep-dive into the different roles in data engineering such as Data Engineer, Data Scientist, Data Analyst etc.\\n'}, {'title': 'Career opportunities in data engineering', 'content': 'Information on how to start a profession in data engineering, including education requirements, skill sets, work experience, and potential job outlook.\\n'}, {'title': 'Conclusion', 'content': 'Recap of why data engineering is crucial in our current technologically advanced society and the potential it holds for future developments.\\n'}, {'title': 'References', 'content': 'Citation of resources used to gather information for this article.'}]}]\n"
     ]
    }
   ],
   "source": [
    "print(data)"
   ]
  },
  {
   "cell_type": "code",
   "execution_count": null,
   "metadata": {
    "id": "9u2SBFW3N4SN"
   },
   "outputs": [],
   "source": []
  }
 ],
 "metadata": {
  "colab": {
   "provenance": []
  },
  "kernelspec": {
   "display_name": "Python 3 (ipykernel)",
   "language": "python",
   "name": "python3"
  },
  "language_info": {
   "codemirror_mode": {
    "name": "ipython",
    "version": 3
   },
   "file_extension": ".py",
   "mimetype": "text/x-python",
   "name": "python",
   "nbconvert_exporter": "python",
   "pygments_lexer": "ipython3",
   "version": "3.11.8"
  }
 },
 "nbformat": 4,
 "nbformat_minor": 4
}
